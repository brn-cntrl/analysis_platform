{
 "cells": [
  {
   "cell_type": "code",
   "execution_count": null,
   "id": "fd3a4bb5",
   "metadata": {
    "execution": {
     "iopub.execute_input": "2025-10-09T17:47:28.434782Z",
     "iopub.status.busy": "2025-10-09T17:47:28.434649Z",
     "iopub.status.idle": "2025-10-09T17:47:29.156262Z",
     "shell.execute_reply": "2025-10-09T17:47:29.155849Z"
    }
   },
   "outputs": [],
   "source": [
    "import pandas as pd\n",
    "import numpy as np\n",
    "import matplotlib.pyplot as plt\n",
    "import matplotlib\n",
    "matplotlib.use('Agg')  \n",
    "import os\n",
    "import json\n",
    "from datetime import datetime"
   ]
  },
  {
   "cell_type": "code",
   "execution_count": 2,
   "id": "cb665cb5",
   "metadata": {
    "execution": {
     "iopub.execute_input": "2025-10-09T17:47:29.158131Z",
     "iopub.status.busy": "2025-10-09T17:47:29.157996Z",
     "iopub.status.idle": "2025-10-09T17:47:29.160547Z",
     "shell.execute_reply": "2025-10-09T17:47:29.160301Z"
    }
   },
   "outputs": [],
   "source": [
    "DATA_FOLDER = 'data'\n",
    "OUTPUT_FOLDER = 'data/outputs'\n",
    "os.makedirs(OUTPUT_FOLDER, exist_ok=True)\n",
    "\n",
    "GROUND_TRUTH_PATH = os.path.join(DATA_FOLDER, 'ground_truth.csv')\n",
    "MARKERS_PATH = os.path.join(DATA_FOLDER, 'markers.csv')"
   ]
  },
  {
   "cell_type": "code",
   "execution_count": 3,
   "id": "75b65fa3",
   "metadata": {
    "execution": {
     "iopub.execute_input": "2025-10-09T17:47:29.161780Z",
     "iopub.status.busy": "2025-10-09T17:47:29.161697Z",
     "iopub.status.idle": "2025-10-09T17:47:29.163340Z",
     "shell.execute_reply": "2025-10-09T17:47:29.163116Z"
    }
   },
   "outputs": [],
   "source": [
    "results = {\n",
    "    'status': 'processing',\n",
    "    'timestamp': datetime.now().isoformat(),\n",
    "    'errors': [],\n",
    "    'ground_truth': {},\n",
    "    'markers': {},\n",
    "    'plots': []\n",
    "}"
   ]
  },
  {
   "cell_type": "code",
   "execution_count": null,
   "id": "24e609ea",
   "metadata": {
    "execution": {
     "iopub.execute_input": "2025-10-09T17:47:29.164583Z",
     "iopub.status.busy": "2025-10-09T17:47:29.164501Z",
     "iopub.status.idle": "2025-10-09T17:47:29.172458Z",
     "shell.execute_reply": "2025-10-09T17:47:29.172195Z"
    }
   },
   "outputs": [
    {
     "name": "stdout",
     "output_type": "stream",
     "text": [
      "Loading ground truth data...\n",
      "✓ Loaded 148 rows\n"
     ]
    }
   ],
   "source": [
    "try:\n",
    "    print(\"Loading ground truth data...\")\n",
    "    df_ground_truth = pd.read_csv(GROUND_TRUTH_PATH)\n",
    "    \n",
    "    results['ground_truth'] = {\n",
    "        'shape': df_ground_truth.shape,\n",
    "        'columns': list(df_ground_truth.columns),\n",
    "        'head': df_ground_truth.head(10).to_dict('records'),\n",
    "        'stats': {}\n",
    "    }\n",
    "    \n",
    "    if 'PG' in df_ground_truth.columns:\n",
    "        results['ground_truth']['stats'] = {\n",
    "            'mean': float(df_ground_truth['PG'].mean()),\n",
    "            'std': float(df_ground_truth['PG'].std()),\n",
    "            'min': float(df_ground_truth['PG'].min()),\n",
    "            'max': float(df_ground_truth['PG'].max()),\n",
    "            'count': int(df_ground_truth['PG'].count())\n",
    "        }\n",
    "    \n",
    "    print(f\"✓ Loaded {df_ground_truth.shape[0]} rows\")\n",
    "    \n",
    "except Exception as e:\n",
    "    error_msg = f\"Error loading ground truth: {str(e)}\"\n",
    "    print(error_msg)\n",
    "    results['errors'].append(error_msg)\n",
    "    df_ground_truth = None"
   ]
  },
  {
   "cell_type": "code",
   "execution_count": null,
   "id": "8ab166cc",
   "metadata": {
    "execution": {
     "iopub.execute_input": "2025-10-09T17:47:29.173778Z",
     "iopub.status.busy": "2025-10-09T17:47:29.173688Z",
     "iopub.status.idle": "2025-10-09T17:47:29.177072Z",
     "shell.execute_reply": "2025-10-09T17:47:29.176859Z"
    }
   },
   "outputs": [
    {
     "name": "stdout",
     "output_type": "stream",
     "text": [
      "Loading markers data...\n",
      "✓ Loaded 10 rows\n"
     ]
    }
   ],
   "source": [
    "try:\n",
    "    print(\"Loading markers data...\")\n",
    "    df_markers = pd.read_csv(MARKERS_PATH)\n",
    "    \n",
    "    results['markers'] = {\n",
    "        'shape': df_markers.shape,\n",
    "        'columns': list(df_markers.columns),\n",
    "        'head': df_markers.head(10).to_dict('records')\n",
    "    }\n",
    "    \n",
    "    if 'condition' in df_markers.columns:\n",
    "        results['markers']['conditions'] = df_markers['condition'].value_counts().to_dict()\n",
    "    \n",
    "    print(f\"✓ Loaded {df_markers.shape[0]} rows\")\n",
    "    \n",
    "except Exception as e:\n",
    "    error_msg = f\"Error loading markers: {str(e)}\"\n",
    "    print(error_msg)\n",
    "    results['errors'].append(error_msg)\n",
    "    df_markers = None"
   ]
  },
  {
   "cell_type": "code",
   "execution_count": null,
   "id": "90322297",
   "metadata": {
    "execution": {
     "iopub.execute_input": "2025-10-09T17:47:29.178438Z",
     "iopub.status.busy": "2025-10-09T17:47:29.178331Z",
     "iopub.status.idle": "2025-10-09T17:47:29.523332Z",
     "shell.execute_reply": "2025-10-09T17:47:29.523044Z"
    }
   },
   "outputs": [
    {
     "name": "stdout",
     "output_type": "stream",
     "text": [
      "Creating visualizations...\n",
      "✓ Saved plot: data/outputs/pg_timeseries.png\n",
      "✓ Saved plot: data/outputs/pg_histogram.png\n",
      "✓ Saved plot: data/outputs/pg_moving_average.png\n"
     ]
    }
   ],
   "source": [
    "if df_ground_truth is not None and 'PG' in df_ground_truth.columns:\n",
    "    try:\n",
    "        print(\"Creating visualizations...\")\n",
    "        \n",
    "        # Plot 1: PG signal over time\n",
    "        plt.figure(figsize=(14, 5))\n",
    "        plt.plot(range(len(df_ground_truth)), df_ground_truth['PG'], \n",
    "                linewidth=0.8, color='#2196F3', alpha=0.8)\n",
    "        plt.xlabel('Sample Index', fontsize=12)\n",
    "        plt.ylabel('PG Value', fontsize=12)\n",
    "        plt.title('EmotiBit PG Signal Over Time', fontsize=14, fontweight='bold')\n",
    "        plt.grid(True, alpha=0.3, linestyle='--')\n",
    "        plt.tight_layout()\n",
    "        \n",
    "        plot1_path = os.path.join(OUTPUT_FOLDER, 'pg_timeseries.png')\n",
    "        plt.savefig(plot1_path, dpi=100, bbox_inches='tight')\n",
    "        plt.close()\n",
    "        \n",
    "        results['plots'].append({\n",
    "            'name': 'PG Time Series',\n",
    "            'path': plot1_path,\n",
    "            'filename': 'pg_timeseries.png'\n",
    "        })\n",
    "        print(f\"✓ Saved plot: {plot1_path}\")\n",
    "        \n",
    "        # Plot 2: PG distribution histogram\n",
    "        plt.figure(figsize=(10, 5))\n",
    "        plt.hist(df_ground_truth['PG'], bins=50, color='#4CAF50', \n",
    "                alpha=0.7, edgecolor='black')\n",
    "        plt.xlabel('PG Value', fontsize=12)\n",
    "        plt.ylabel('Frequency', fontsize=12)\n",
    "        plt.title('PG Value Distribution', fontsize=14, fontweight='bold')\n",
    "        plt.grid(True, alpha=0.3, axis='y', linestyle='--')\n",
    "        plt.tight_layout()\n",
    "        \n",
    "        plot2_path = os.path.join(OUTPUT_FOLDER, 'pg_histogram.png')\n",
    "        plt.savefig(plot2_path, dpi=100, bbox_inches='tight')\n",
    "        plt.close()\n",
    "        \n",
    "        results['plots'].append({\n",
    "            'name': 'PG Distribution',\n",
    "            'path': plot2_path,\n",
    "            'filename': 'pg_histogram.png'\n",
    "        })\n",
    "        print(f\"✓ Saved plot: {plot2_path}\")\n",
    "        \n",
    "        # Plot 3: Rolling mean\n",
    "        window = 100\n",
    "        rolling_mean = df_ground_truth['PG'].rolling(window=window).mean()\n",
    "        \n",
    "        plt.figure(figsize=(14, 5))\n",
    "        plt.plot(range(len(df_ground_truth)), df_ground_truth['PG'], \n",
    "                linewidth=0.5, color='#CCCCCC', alpha=0.5, label='Raw Signal')\n",
    "        plt.plot(range(len(rolling_mean)), rolling_mean, \n",
    "                linewidth=2, color='#FF5722', label=f'{window}-point Moving Average')\n",
    "        plt.xlabel('Sample Index', fontsize=12)\n",
    "        plt.ylabel('PG Value', fontsize=12)\n",
    "        plt.title('PG Signal with Moving Average', fontsize=14, fontweight='bold')\n",
    "        plt.legend(fontsize=10)\n",
    "        plt.grid(True, alpha=0.3, linestyle='--')\n",
    "        plt.tight_layout()\n",
    "        \n",
    "        plot3_path = os.path.join(OUTPUT_FOLDER, 'pg_moving_average.png')\n",
    "        plt.savefig(plot3_path, dpi=100, bbox_inches='tight')\n",
    "        plt.close()\n",
    "        \n",
    "        results['plots'].append({\n",
    "            'name': 'PG with Moving Average',\n",
    "            'path': plot3_path,\n",
    "            'filename': 'pg_moving_average.png'\n",
    "        })\n",
    "        print(f\"✓ Saved plot: {plot3_path}\")\n",
    "        \n",
    "    except Exception as e:\n",
    "        error_msg = f\"Error creating plots: {str(e)}\"\n",
    "        print(error_msg)\n",
    "        results['errors'].append(error_msg)\n"
   ]
  },
  {
   "cell_type": "code",
   "execution_count": 7,
   "id": "6d62722e",
   "metadata": {
    "execution": {
     "iopub.execute_input": "2025-10-09T17:47:29.525064Z",
     "iopub.status.busy": "2025-10-09T17:47:29.524939Z",
     "iopub.status.idle": "2025-10-09T17:47:29.528950Z",
     "shell.execute_reply": "2025-10-09T17:47:29.528576Z"
    }
   },
   "outputs": [
    {
     "name": "stdout",
     "output_type": "stream",
     "text": [
      "\n",
      "✓ Analysis complete! Results saved to data/outputs/results.json\n",
      "Status: completed\n",
      "Plots generated: 3\n"
     ]
    }
   ],
   "source": [
    "results['status'] = 'completed' if len(results['errors']) == 0 else 'completed_with_errors'\n",
    "results_path = os.path.join(OUTPUT_FOLDER, 'results.json')\n",
    "\n",
    "with open(results_path, 'w') as f:\n",
    "    json.dump(results, f, indent=2)\n",
    "\n",
    "print(f\"\\n✓ Analysis complete! Results saved to {results_path}\")\n",
    "print(f\"Status: {results['status']}\")\n",
    "print(f\"Plots generated: {len(results['plots'])}\")\n"
   ]
  }
 ],
 "metadata": {
  "kernelspec": {
   "display_name": "base",
   "language": "python",
   "name": "python3"
  },
  "language_info": {
   "codemirror_mode": {
    "name": "ipython",
    "version": 3
   },
   "file_extension": ".py",
   "mimetype": "text/x-python",
   "name": "python",
   "nbconvert_exporter": "python",
   "pygments_lexer": "ipython3",
   "version": "3.11.4"
  }
 },
 "nbformat": 4,
 "nbformat_minor": 5
}
